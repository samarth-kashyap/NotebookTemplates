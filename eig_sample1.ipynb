{
  "nbformat": 4,
  "nbformat_minor": 0,
  "metadata": {
    "colab": {
      "name": "eig-sample1.ipynb",
      "provenance": [],
      "authorship_tag": "ABX9TyORsMzOOC6n26BlFgGCdrTe",
      "include_colab_link": true
    },
    "kernelspec": {
      "name": "python3",
      "display_name": "Python 3"
    },
    "language_info": {
      "name": "python"
    }
  },
  "cells": [
    {
      "cell_type": "markdown",
      "metadata": {
        "id": "view-in-github",
        "colab_type": "text"
      },
      "source": [
        "<a href=\"https://colab.research.google.com/github/samarth-kashyap/NotebookTemplates/blob/main/eig_sample1.ipynb\" target=\"_parent\"><img src=\"https://colab.research.google.com/assets/colab-badge.svg\" alt=\"Open In Colab\"/></a>"
      ]
    },
    {
      "cell_type": "code",
      "metadata": {
        "colab": {
          "base_uri": "https://localhost:8080/"
        },
        "id": "e-XHsf4Upk2N",
        "outputId": "caea2d7d-5776-4a84-b168-609fc1f2cdae"
      },
      "source": [
        "! pip install numpyro"
      ],
      "execution_count": 2,
      "outputs": [
        {
          "output_type": "stream",
          "name": "stdout",
          "text": [
            "Collecting numpyro\n",
            "  Downloading numpyro-0.8.0-py3-none-any.whl (264 kB)\n",
            "\u001b[?25l\r\u001b[K     |█▎                              | 10 kB 17.5 MB/s eta 0:00:01\r\u001b[K     |██▌                             | 20 kB 24.7 MB/s eta 0:00:01\r\u001b[K     |███▊                            | 30 kB 14.9 MB/s eta 0:00:01\r\u001b[K     |█████                           | 40 kB 10.9 MB/s eta 0:00:01\r\u001b[K     |██████▏                         | 51 kB 5.7 MB/s eta 0:00:01\r\u001b[K     |███████▍                        | 61 kB 6.0 MB/s eta 0:00:01\r\u001b[K     |████████▊                       | 71 kB 5.2 MB/s eta 0:00:01\r\u001b[K     |██████████                      | 81 kB 5.9 MB/s eta 0:00:01\r\u001b[K     |███████████▏                    | 92 kB 6.1 MB/s eta 0:00:01\r\u001b[K     |████████████▍                   | 102 kB 5.4 MB/s eta 0:00:01\r\u001b[K     |█████████████▋                  | 112 kB 5.4 MB/s eta 0:00:01\r\u001b[K     |██████████████▉                 | 122 kB 5.4 MB/s eta 0:00:01\r\u001b[K     |████████████████▏               | 133 kB 5.4 MB/s eta 0:00:01\r\u001b[K     |█████████████████▍              | 143 kB 5.4 MB/s eta 0:00:01\r\u001b[K     |██████████████████▋             | 153 kB 5.4 MB/s eta 0:00:01\r\u001b[K     |███████████████████▉            | 163 kB 5.4 MB/s eta 0:00:01\r\u001b[K     |█████████████████████           | 174 kB 5.4 MB/s eta 0:00:01\r\u001b[K     |██████████████████████▎         | 184 kB 5.4 MB/s eta 0:00:01\r\u001b[K     |███████████████████████▋        | 194 kB 5.4 MB/s eta 0:00:01\r\u001b[K     |████████████████████████▉       | 204 kB 5.4 MB/s eta 0:00:01\r\u001b[K     |██████████████████████████      | 215 kB 5.4 MB/s eta 0:00:01\r\u001b[K     |███████████████████████████▎    | 225 kB 5.4 MB/s eta 0:00:01\r\u001b[K     |████████████████████████████▌   | 235 kB 5.4 MB/s eta 0:00:01\r\u001b[K     |█████████████████████████████▊  | 245 kB 5.4 MB/s eta 0:00:01\r\u001b[K     |███████████████████████████████ | 256 kB 5.4 MB/s eta 0:00:01\r\u001b[K     |████████████████████████████████| 264 kB 5.4 MB/s \n",
            "\u001b[?25hRequirement already satisfied: tqdm in /usr/local/lib/python3.7/dist-packages (from numpyro) (4.62.3)\n",
            "Requirement already satisfied: jax>=0.2.13 in /usr/local/lib/python3.7/dist-packages (from numpyro) (0.2.21)\n",
            "Requirement already satisfied: jaxlib>=0.1.65 in /usr/local/lib/python3.7/dist-packages (from numpyro) (0.1.71+cuda111)\n",
            "Requirement already satisfied: scipy>=1.2.1 in /usr/local/lib/python3.7/dist-packages (from jax>=0.2.13->numpyro) (1.4.1)\n",
            "Requirement already satisfied: numpy>=1.18 in /usr/local/lib/python3.7/dist-packages (from jax>=0.2.13->numpyro) (1.19.5)\n",
            "Requirement already satisfied: opt-einsum in /usr/local/lib/python3.7/dist-packages (from jax>=0.2.13->numpyro) (3.3.0)\n",
            "Requirement already satisfied: absl-py in /usr/local/lib/python3.7/dist-packages (from jax>=0.2.13->numpyro) (0.12.0)\n",
            "Requirement already satisfied: flatbuffers<3.0,>=1.12 in /usr/local/lib/python3.7/dist-packages (from jaxlib>=0.1.65->numpyro) (2.0)\n",
            "Requirement already satisfied: six in /usr/local/lib/python3.7/dist-packages (from absl-py->jax>=0.2.13->numpyro) (1.15.0)\n",
            "Installing collected packages: numpyro\n",
            "Successfully installed numpyro-0.8.0\n"
          ]
        }
      ]
    },
    {
      "cell_type": "code",
      "metadata": {
        "colab": {
          "base_uri": "https://localhost:8080/"
        },
        "id": "-6ejf0KPw2An",
        "outputId": "0649aecc-a220-46ba-ae42-98583355f4da"
      },
      "source": [
        "! pip install py3nj"
      ],
      "execution_count": 15,
      "outputs": [
        {
          "output_type": "stream",
          "name": "stdout",
          "text": [
            "Collecting py3nj\n",
            "  Downloading py3nj-0.1.2.tar.gz (28 kB)\n",
            "Building wheels for collected packages: py3nj\n",
            "  Building wheel for py3nj (setup.py) ... \u001b[?25l\u001b[?25hdone\n",
            "  Created wheel for py3nj: filename=py3nj-0.1.2-cp37-cp37m-linux_x86_64.whl size=101180 sha256=fb445af585bcbc53a80f65a080bb013fa7fa040cbab6a77a12d6bcfd1ad64e12\n",
            "  Stored in directory: /root/.cache/pip/wheels/dd/e8/bb/9e13947719ac9d5a9191f7d788a5025a377d6d1cb1dd1bd330\n",
            "Successfully built py3nj\n",
            "Installing collected packages: py3nj\n",
            "Successfully installed py3nj-0.1.2\n"
          ]
        }
      ]
    },
    {
      "cell_type": "code",
      "metadata": {
        "id": "5Wpg8lmJpnme"
      },
      "source": [
        "import matplotlib.pyplot as plt\n",
        "from jax import random, vmap\n",
        "import jax.numpy as jnp\n",
        "import seaborn as sns\n",
        "import pandas as pd\n",
        "import numpy as np\n",
        "import py3nj\n",
        "import os\n",
        "\n",
        "NAX = np.newaxis\n",
        "\n",
        "import numpyro\n",
        "from numpyro.diagnostics import hpdi\n",
        "import numpyro.distributions as dist\n",
        "from numpyro.infer import MCMC, NUTS, SA, HMC\n",
        "from numpyro.infer import init_to_sample, init_to_value\n",
        "from numpyro import handlers\n",
        "\n",
        "plt.style.use('bmh')\n",
        "#numpyro.set_platform(\"cpu\")\n",
        "\n",
        "from scipy.integrate import simps\n",
        "from jax.numpy import trapz"
      ],
      "execution_count": 19,
      "outputs": []
    },
    {
      "cell_type": "code",
      "metadata": {
        "id": "mIQ4wwbYvGfa"
      },
      "source": [
        "def w3j_vecm(l1, l2, l3, m1, m2, m3):\n",
        "    \"\"\"Computes the wigner-3j symbol for given l1, l2, l3, m1, m2, m3.\n",
        "\n",
        "    Inputs:\n",
        "    -------\n",
        "    l1, l2, l3 - int\n",
        "    m1, m2, m3 - np.ndarray(ndim=1, dtype=np.int32)\n",
        "\n",
        "    Returns:\n",
        "    --------\n",
        "    wigvals - np.ndarray(ndim=1, dtype=np.float32)\n",
        "    \"\"\"\n",
        "    l1 = int(2*l1)\n",
        "    l2 = int(2*l2)\n",
        "    l3 = int(2*l3)\n",
        "    m1 = 2*m1\n",
        "    m2 = 2*m2\n",
        "    m3 = 2*m3\n",
        "    wigvals = py3nj.wigner3j(l1, l2, l3, m1, m2, m3)\n",
        "    return wigvals\n",
        "\n",
        "\n",
        "def eig_mcmc_func(w1=None, w3=None, w5=None):\n",
        "    return  get_eigs(create_supermatrix(w1, w3, w5))/2./omega0\n",
        "    \n",
        "\n",
        "#def create_supermatrix(wsr_slope):\n",
        "def create_supermatrix(w1, w3, w5):\n",
        "    integrand1 = 0.1*Tsr[0, :] * (1 + w1)\n",
        "    integrand3 = 0.1*Tsr[1, :] * (1 + w3)\n",
        "    integrand5 = 0.1*Tsr[2, :] * (1 + w5)\n",
        "    integral1 = trapz(integrand1, x=r)\n",
        "    integral3 = trapz(integrand3, x=r)\n",
        "    integral5 = trapz(integrand5, x=r)\n",
        "    prod_gamma1 = gamma(ell1)*gamma(ell2)*gamma(s_arr[0])\n",
        "    prod_gamma3 = gamma(ell1)*gamma(ell2)*gamma(s_arr[0])\n",
        "    prod_gamma5 = gamma(ell1)*gamma(ell2)*gamma(s_arr[0])\n",
        "    wpi = (wigvals[:, 0]*integral1*prod_gamma1 + \n",
        "           wigvals[:, 1]*integral3*prod_gamma3 +\n",
        "           wigvals[:, 2]*integral5*prod_gamma5)\n",
        "    diag = 8*np.pi*omega0*wpi\n",
        "    supmat = jnp.diag(diag)\n",
        "    return supmat\n",
        "\n",
        "def get_eigs(mat):\n",
        "    eigvals, eigvecs = jnp.linalg.eigh(mat)\n",
        "    return eigvals\n",
        "\n",
        "def gamma(ell):\n",
        "    return jnp.sqrt((2*ell+1)/4./np.pi)\n",
        "\n",
        "def minus1pow_vecm(num):\n",
        "    modval = num % 2\n",
        "    retval = np.zeros_like(modval)\n",
        "    retval[modval == 1] = -1\n",
        "    retval[modval == 0] = 1\n",
        "    return retval"
      ],
      "execution_count": 17,
      "outputs": []
    },
    {
      "cell_type": "code",
      "metadata": {
        "colab": {
          "base_uri": "https://localhost:8080/"
        },
        "id": "mjGHUHY9wAXY",
        "outputId": "d29d6062-17c4-43a2-bae7-a257db25512c"
      },
      "source": [
        "rm *.dat"
      ],
      "execution_count": 9,
      "outputs": [
        {
          "output_type": "stream",
          "name": "stdout",
          "text": [
            "rm: cannot remove '*.dat': No such file or directory\n"
          ]
        }
      ]
    },
    {
      "cell_type": "code",
      "metadata": {
        "colab": {
          "base_uri": "https://localhost:8080/"
        },
        "id": "8tx5z30OvUaC",
        "outputId": "06d5f946-43e3-4287-dc8a-c5951b985eca"
      },
      "source": [
        "!wget ftp://ftp.tifr.res.in/g.samarth/eig1/U3672.dat\n",
        "!wget ftp://ftp.tifr.res.in/g.samarth/eig1/V3672.dat\n",
        "!wget ftp://ftp.tifr.res.in/g.samarth/eig1/r.dat\n",
        "!wget ftp://ftp.tifr.res.in/g.samarth/eig1/Tsr.npy"
      ],
      "execution_count": 12,
      "outputs": [
        {
          "output_type": "stream",
          "name": "stdout",
          "text": [
            "--2021-11-22 13:07:11--  ftp://ftp.tifr.res.in/g.samarth/eig1/U3672.dat\n",
            "           => ‘U3672.dat’\n",
            "Resolving ftp.tifr.res.in (ftp.tifr.res.in)... 158.144.1.37, 2406:f00:1:1::70\n",
            "Connecting to ftp.tifr.res.in (ftp.tifr.res.in)|158.144.1.37|:21... connected.\n",
            "Logging in as anonymous ... Logged in!\n",
            "==> SYST ... done.    ==> PWD ... done.\n",
            "==> TYPE I ... done.  ==> CWD (1) /g.samarth/eig1 ... done.\n",
            "==> SIZE U3672.dat ... 60000\n",
            "==> PASV ... done.    ==> RETR U3672.dat ... done.\n",
            "Length: 60000 (59K) (unauthoritative)\n",
            "\n",
            "U3672.dat           100%[===================>]  58.59K   113KB/s    in 0.5s    \n",
            "\n",
            "2021-11-22 13:07:17 (113 KB/s) - ‘U3672.dat’ saved [60000]\n",
            "\n",
            "--2021-11-22 13:07:17--  ftp://ftp.tifr.res.in/g.samarth/eig1/V3672.dat\n",
            "           => ‘V3672.dat’\n",
            "Resolving ftp.tifr.res.in (ftp.tifr.res.in)... 158.144.1.37, 2406:f00:1:1::70\n",
            "Connecting to ftp.tifr.res.in (ftp.tifr.res.in)|158.144.1.37|:21... connected.\n",
            "Logging in as anonymous ... Logged in!\n",
            "==> SYST ... done.    ==> PWD ... done.\n",
            "==> TYPE I ... done.  ==> CWD (1) /g.samarth/eig1 ... done.\n",
            "==> SIZE V3672.dat ... 60000\n",
            "==> PASV ... done.    ==> RETR V3672.dat ... done.\n",
            "Length: 60000 (59K) (unauthoritative)\n",
            "\n",
            "V3672.dat           100%[===================>]  58.59K   115KB/s    in 0.5s    \n",
            "\n",
            "2021-11-22 13:07:21 (115 KB/s) - ‘V3672.dat’ saved [60000]\n",
            "\n",
            "--2021-11-22 13:07:21--  ftp://ftp.tifr.res.in/g.samarth/eig1/r.dat\n",
            "           => ‘r.dat’\n",
            "Resolving ftp.tifr.res.in (ftp.tifr.res.in)... 158.144.1.37, 2406:f00:1:1::70\n",
            "Connecting to ftp.tifr.res.in (ftp.tifr.res.in)|158.144.1.37|:21... connected.\n",
            "Logging in as anonymous ... Logged in!\n",
            "==> SYST ... done.    ==> PWD ... done.\n",
            "==> TYPE I ... done.  ==> CWD (1) /g.samarth/eig1 ... done.\n",
            "==> SIZE r.dat ... 60000\n",
            "==> PASV ... done.    ==> RETR r.dat ... done.\n",
            "Length: 60000 (59K) (unauthoritative)\n",
            "\n",
            "r.dat               100%[===================>]  58.59K   121KB/s    in 0.5s    \n",
            "\n",
            "2021-11-22 13:07:25 (121 KB/s) - ‘r.dat’ saved [60000]\n",
            "\n",
            "--2021-11-22 13:07:25--  ftp://ftp.tifr.res.in/g.samarth/eig1/Tsr.npy\n",
            "           => ‘Tsr.npy’\n",
            "Resolving ftp.tifr.res.in (ftp.tifr.res.in)... 158.144.1.37, 2406:f00:1:1::70\n",
            "Connecting to ftp.tifr.res.in (ftp.tifr.res.in)|158.144.1.37|:21... connected.\n",
            "Logging in as anonymous ... Logged in!\n",
            "==> SYST ... done.    ==> PWD ... done.\n",
            "==> TYPE I ... done.  ==> CWD (1) /g.samarth/eig1 ... done.\n",
            "==> SIZE Tsr.npy ... 22388\n",
            "==> PASV ... done.    ==> RETR Tsr.npy ... done.\n",
            "Length: 22388 (22K) (unauthoritative)\n",
            "\n",
            "Tsr.npy             100%[===================>]  21.86K  86.6KB/s    in 0.3s    \n",
            "\n",
            "2021-11-22 13:07:29 (86.6 KB/s) - ‘Tsr.npy’ saved [22388]\n",
            "\n"
          ]
        }
      ]
    },
    {
      "cell_type": "code",
      "metadata": {
        "colab": {
          "base_uri": "https://localhost:8080/",
          "height": 279
        },
        "id": "iHUEyBRavNRK",
        "outputId": "55d55b99-8eb0-4d3c-c9eb-46f81b561c11"
      },
      "source": [
        "r = np.loadtxt('r.dat')\n",
        "U = np.loadtxt('U3672.dat')\n",
        "V = np.loadtxt('V3672.dat')\n",
        "Tsr = np.load('Tsr.npy')\n",
        "\n",
        "rmin, rmax = 0.3, 1.0\n",
        "rmin_idx = np.argmin(abs(r - rmin))\n",
        "rmax_idx = np.argmin(abs(r - rmax)) + 1\n",
        "\n",
        "r = r[rmin_idx:rmax_idx]\n",
        "U = U[rmin_idx:rmax_idx]\n",
        "V = V[rmin_idx:rmax_idx]\n",
        "\n",
        "r = jnp.asarray(r)\n",
        "U = jnp.asarray(U)\n",
        "V = jnp.asarray(V)\n",
        "Tsr = jnp.asarray(Tsr)\n",
        "\n",
        "n1, n2 = 0, 0\n",
        "ell1, ell2 = 200, 200\n",
        "ell = min(ell1, ell2)\n",
        "nu0 = 4741.\n",
        "\n",
        "Msol = 1.989e33\n",
        "Rsol = 6.956e10\n",
        "B0 = 10.e5\n",
        "OM = jnp.sqrt(4*np.pi*Rsol*B0**2/Msol)\n",
        "nu0 /= OM*1e6\n",
        "omega0 = 2*jnp.pi*nu0\n",
        "\n",
        "s_arr = jnp.array([1., 3., 5.])\n",
        "m = jnp.arange(-ell, ell+1)\n",
        "wigvals = np.zeros((2*ell+1, len(s_arr)))\n",
        "for i in range(len(s_arr)):\n",
        "    wigvals[:, i] = w3j_vecm(ell1, s_arr[i], ell2, -m, 0*m, m)\n",
        "    \n",
        "wigvals = jnp.asarray(wigvals)\n",
        "w1t, w3t, w5t = 10.51, .43, .175\n",
        "eigvals_true = get_eigs(create_supermatrix(w1t, w3t, w5t))/2/omega0\n",
        "eigvals_sigma = np.ones_like(eigvals_true)*0.015\n",
        "eigvals_sigma = jnp.asarray(eigvals_sigma)\n",
        "\n",
        "plt.figure()\n",
        "plt.plot(m, eigvals_true)\n",
        "plt.xlabel('$m$')\n",
        "plt.ylabel('$\\delta\\omega_{nlm}$')\n",
        "plt.show()\n",
        "\n"
      ],
      "execution_count": 20,
      "outputs": [
        {
          "output_type": "display_data",
          "data": {
            "image/png": "[encoded data removed]",
            "text/plain": [
              "<Figure size 432x288 with 1 Axes>"
            ]
          },
          "metadata": {
            "needs_background": "light"
          }
        }
      ]
    },
    {
      "cell_type": "code",
      "metadata": {
        "id": "nw4fTywtvROe"
      },
      "source": [
        "def model():\n",
        "    # setting min and max value to be -2.0*true and 2.0*true\n",
        "    w1min, w1max = -.1*abs(w1t), 3.*abs(w1t)\n",
        "    w3min, w3max = -.1*abs(w3t), 3.*abs(w3t)\n",
        "    w5min, w5max = -.1*abs(w5t), 3.*abs(w5t)\n",
        "    \n",
        "    w1 = numpyro.sample('w1', dist.Uniform(w1min, w1max))\n",
        "    w3 = numpyro.sample('w3', dist.Uniform(w3min, w3max))\n",
        "    w5 = numpyro.sample('w5', dist.Uniform(w5min, w5max))\n",
        "    \n",
        "    eig_sample = eig_mcmc_func(w1=w1, w3=w3, w5=w5)\n",
        "    eig_sample -= eigvals_true\n",
        "    eig_sample /= eigvals_sigma\n",
        "    numpyro.factor('obs', dist.Normal(0.0, 1.0).log_prob(eig_sample))\n",
        "    return None"
      ],
      "execution_count": 21,
      "outputs": []
    },
    {
      "cell_type": "code",
      "metadata": {
        "colab": {
          "base_uri": "https://localhost:8080/"
        },
        "id": "kK_AHq0ExJrH",
        "outputId": "ade6d610-99c1-4301-d700-056929ae4bc9"
      },
      "source": [
        "# Start from this source of randomness. We will split keys for subsequent operations.\n",
        "rng_key = random.PRNGKey(int(15 + 10*np.random.rand()))\n",
        "rng_key, rng_key_ = random.split(rng_key)\n",
        "\n",
        "# Run NUTS.\n",
        "#kernel = NUTS(model, adapt_step_size=True)\n",
        "#mcmc = MCMC(kernel, num_warmup=10, num_samples=20, num_chains=1)\n",
        "\n",
        "kernel = SA(model, adapt_state_size=130)\n",
        "mcmc = MCMC(kernel, num_warmup=1500, num_samples=1750, num_chains=1)\n",
        "model_init = numpyro.infer.util.initialize_model(rng_key_, model, model_args=())\n",
        "\n",
        "mcmc.run(rng_key_, extra_fields=('potential_energy',))\n",
        "mcmc.print_summary()\n",
        "print(f\"w1_true = {w1t}\\n\" +\n",
        "      f\"w3_true = {w3t}\\n\" +\n",
        "      f\"w5_true = {w5t}\")"
      ],
      "execution_count": 22,
      "outputs": [
        {
          "output_type": "stream",
          "name": "stderr",
          "text": [
            "sample: 100%|██████████| 3250/3250 [00:59<00:00, 54.48it/s, acc. prob=0.97]\n"
          ]
        },
        {
          "output_type": "stream",
          "name": "stdout",
          "text": [
            "\n",
            "                mean       std    median      5.0%     95.0%     n_eff     r_hat\n",
            "        w1     10.51      0.00     10.51     10.51     10.51    689.96      1.00\n",
            "        w3      0.43      0.00      0.43      0.43      0.43   1015.72      1.01\n",
            "        w5      0.18      0.00      0.17      0.17      0.18   1487.85      1.00\n",
            "\n",
            "Number of divergences: 0\n",
            "w1_true = 10.51\n",
            "w3_true = 0.43\n",
            "w5_true = 0.175\n"
          ]
        }
      ]
    },
    {
      "cell_type": "code",
      "metadata": {
        "colab": {
          "base_uri": "https://localhost:8080/",
          "height": 585
        },
        "id": "uRiB9hg0xUuN",
        "outputId": "e419802a-115d-4540-fe90-5078eb493b64"
      },
      "source": [
        "samples_1 = mcmc.get_samples()\n",
        "fig, axs = plt.subplots(nrows=len(samples_1.keys()), ncols=1, figsize=(5, 8))\n",
        "axs = axs.flatten()\n",
        "count = 0\n",
        "for key in samples_1.keys():\n",
        "    axs[count].plot(samples_1[f'{key}'])\n",
        "    axs[count].set_ylabel(f'{key}')\n",
        "    count += 1\n",
        "plt.tight_layout()"
      ],
      "execution_count": 23,
      "outputs": [
        {
          "output_type": "display_data",
          "data": {
            "image/png": "[encoded data removed]",
            "text/plain": [
              "<Figure size 360x576 with 3 Axes>"
            ]
          },
          "metadata": {
            "needs_background": "light"
          }
        }
      ]
    },
    {
      "cell_type": "code",
      "metadata": {
        "id": "vyBERokXxo3S"
      },
      "source": [
        ""
      ],
      "execution_count": null,
      "outputs": []
    }
  ]
}